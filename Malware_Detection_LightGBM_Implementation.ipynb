{
 "cells": [
  {
   "cell_type": "code",
   "execution_count": 3,
   "id": "7cd0f395",
   "metadata": {},
   "outputs": [],
   "source": [
    "#Importing required libraries\n",
    "import matplotlib.pyplot as plt\n",
    "import seaborn as sns\n",
    "import pandas as pd\n",
    "import lightgbm as lgb\n",
    "from sklearn.model_selection import StratifiedKFold, KFold\n",
    "from sklearn.metrics import roc_auc_score\n",
    "import re\n",
    "import numpy as np\n",
    "from sklearn.metrics import accuracy_score\n",
    "from sklearn.metrics import f1_score"
   ]
  },
  {
   "cell_type": "code",
   "execution_count": 4,
   "id": "e8aee74a",
   "metadata": {},
   "outputs": [
    {
     "name": "stderr",
     "output_type": "stream",
     "text": [
      "C:\\Users\\prati\\AppData\\Local\\Temp\\ipykernel_41112\\3790796749.py:2: DtypeWarning: Columns (28) have mixed types. Specify dtype option on import or set low_memory=False.\n",
      "  train_df = pd.read_csv('D://College//Northeastern_DS//DS_5500_Capstone//Data_set//train_file//train.csv')\n"
     ]
    }
   ],
   "source": [
    "#Importing Train File \n",
    "train_df = pd.read_csv('D://College//Northeastern_DS//DS_5500_Capstone//Data_set//train_file//train.csv')\n",
    "train_df = train_df[:100000]"
   ]
  },
  {
   "cell_type": "code",
   "execution_count": 5,
   "id": "83e75fed",
   "metadata": {},
   "outputs": [
    {
     "name": "stderr",
     "output_type": "stream",
     "text": [
      "C:\\Users\\prati\\AppData\\Local\\Temp\\ipykernel_41112\\2189940157.py:2: DtypeWarning: Columns (28) have mixed types. Specify dtype option on import or set low_memory=False.\n",
      "  test_df = pd.read_csv('D://College//Northeastern_DS//DS_5500_Capstone//Data_set//test_file//test.csv')\n"
     ]
    }
   ],
   "source": [
    "#Importing Test File \n",
    "test_df = pd.read_csv('D://College//Northeastern_DS//DS_5500_Capstone//Data_set//test_file//test.csv')\n",
    "test_df = test_df[:100000]"
   ]
  },
  {
   "cell_type": "code",
   "execution_count": 6,
   "id": "45f21ca9",
   "metadata": {},
   "outputs": [],
   "source": [
    "#Reduction of Memory Usage\n",
    "def reduce_mem_usage(df, verbose=True):\n",
    "    numerics = ['int16', 'int32', 'int64', 'float16', 'float32', 'float64']\n",
    "    start_mem = df.memory_usage().sum() / 1024**2    \n",
    "    for col in df.columns:\n",
    "        col_type = df[col].dtypes\n",
    "        if col_type in numerics:\n",
    "            c_min = df[col].min()\n",
    "            c_max = df[col].max()\n",
    "            if str(col_type)[:3] == 'int':\n",
    "                if c_min > np.iinfo(np.int8).min and c_max < np.iinfo(np.int8).max:\n",
    "                    df[col] = df[col].astype(np.int8)\n",
    "                elif c_min > np.iinfo(np.int16).min and c_max < np.iinfo(np.int16).max:\n",
    "                    df[col] = df[col].astype(np.int16)\n",
    "                elif c_min > np.iinfo(np.int32).min and c_max < np.iinfo(np.int32).max:\n",
    "                    df[col] = df[col].astype(np.int32)\n",
    "                elif c_min > np.iinfo(np.int64).min and c_max < np.iinfo(np.int64).max:\n",
    "                    df[col] = df[col].astype(np.int64)  \n",
    "            else:\n",
    "                if c_min > np.finfo(np.float16).min and c_max < np.finfo(np.float16).max:\n",
    "                    df[col] = df[col].astype(np.float16)\n",
    "                elif c_min > np.finfo(np.float32).min and c_max < np.finfo(np.float32).max:\n",
    "                    df[col] = df[col].astype(np.float32)\n",
    "                else:\n",
    "                    df[col] = df[col].astype(np.float64)    \n",
    "    end_mem = df.memory_usage().sum() / 1024**2\n",
    "    if verbose: print('Mem. usage decreased to {:5.2f} Mb ({:.1f}% reduction)'.format(end_mem, 100 * (start_mem - end_mem) / start_mem))\n",
    "    return df"
   ]
  },
  {
   "cell_type": "code",
   "execution_count": 7,
   "id": "24e4f84b",
   "metadata": {},
   "outputs": [],
   "source": [
    "#Function to remove columns based on conditions\n",
    "def remove_columns(df):\n",
    "    cols_to_keep = []\n",
    "    for col in df.columns:\n",
    "        if ((df[col].isna().sum()/len(df)))<0.5:\n",
    "            #print(col, (train_df[col].isna().sum()/len(train_df)))\n",
    "            cols_to_keep.append(col)\n",
    "            #print('+++++++')\n",
    "    df = df[cols_to_keep]\n",
    "    \n",
    "    #Removing the columns which are values less than 20%\n",
    "    cols_to_keep_2 = []\n",
    "    for col in df.columns:\n",
    "        if len(df[col].value_counts())<20:\n",
    "            #print(col, len(train_df[col].value_counts()))\n",
    "            cols_to_keep_2.append(col)\n",
    "    df = df[cols_to_keep_2]\n",
    "            #print()\n",
    "    return df"
   ]
  },
  {
   "cell_type": "code",
   "execution_count": 8,
   "id": "36664231",
   "metadata": {},
   "outputs": [],
   "source": [
    "#Function to replace values for NA\n",
    "def replace_values(df):\n",
    "    mean_value = df['RtpStateBitfield'].describe()['50%']\n",
    "    df['RtpStateBitfield'].fillna(value=mean_value, inplace=True)\n",
    "    mean_value = df['Wdft_RegionIdentifier'].describe()['50%']\n",
    "    df['Wdft_RegionIdentifier'].fillna(value=mean_value, inplace=True)\n",
    "    return df"
   ]
  },
  {
   "cell_type": "code",
   "execution_count": 9,
   "id": "2ac3aa81",
   "metadata": {},
   "outputs": [],
   "source": [
    "#Function to get dummies\n",
    "def get_dummies(df):\n",
    "    df = pd.get_dummies(df,columns=df.columns.tolist())\n",
    "    return df"
   ]
  },
  {
   "cell_type": "code",
   "execution_count": 10,
   "id": "58b607d9",
   "metadata": {},
   "outputs": [],
   "source": [
    "#Function to make columns equal\n",
    "def make_columns_equal(train_df,test_df):\n",
    "    \n",
    "    set1 = set(train_df.columns.tolist())\n",
    "    set2 = set(test_df.columns.tolist())\n",
    "    \n",
    "    col1 = list(set1 - set2) # in train not in test\n",
    "    col2 = list(set2 - set1) # in test not in train\n",
    "    \n",
    "    #Adding columns with '0' values which are not in test but in train\n",
    "    if len(col1) != 0:\n",
    "        for col in col1:\n",
    "            test_df[col] = 0\n",
    "        \n",
    "    #Removing columns from test which are not in train\n",
    "    if len(col1) != 0:\n",
    "        for col in col2:\n",
    "            test_df.drop([col],axis=1,inplace=True)\n",
    "    \n",
    "    return train_df,test_df"
   ]
  },
  {
   "cell_type": "code",
   "execution_count": 11,
   "id": "12bc2199",
   "metadata": {},
   "outputs": [],
   "source": [
    "#Creating a copy for train_df\n",
    "train_df_1 =  train_df.copy(deep=True)"
   ]
  },
  {
   "cell_type": "code",
   "execution_count": 12,
   "id": "7532cee7",
   "metadata": {},
   "outputs": [
    {
     "name": "stdout",
     "output_type": "stream",
     "text": [
      "Mem. usage decreased to 33.57 Mb (47.0% reduction)\n"
     ]
    }
   ],
   "source": [
    "#Reducing train_df\n",
    "train_df = reduce_mem_usage(train_df)"
   ]
  },
  {
   "cell_type": "code",
   "execution_count": 13,
   "id": "84ad7616",
   "metadata": {},
   "outputs": [
    {
     "name": "stdout",
     "output_type": "stream",
     "text": [
      "Mem. usage decreased to 33.47 Mb (46.5% reduction)\n"
     ]
    }
   ],
   "source": [
    "#Reducing test_df\n",
    "test_df = reduce_mem_usage(test_df)"
   ]
  },
  {
   "cell_type": "code",
   "execution_count": 14,
   "id": "4bb9c981",
   "metadata": {},
   "outputs": [],
   "source": [
    "#Removing HasDetections column from train file\n",
    "target = train_df['HasDetections']\n",
    "train_df.drop(['HasDetections'],axis=1,inplace=True)"
   ]
  },
  {
   "cell_type": "code",
   "execution_count": 15,
   "id": "d18a7d17",
   "metadata": {},
   "outputs": [],
   "source": [
    "#Removing unwanted columns based on conditions\n",
    "train_df = remove_columns(train_df)\n",
    "test_df = remove_columns(test_df)"
   ]
  },
  {
   "cell_type": "code",
   "execution_count": 16,
   "id": "9758a8e6",
   "metadata": {},
   "outputs": [],
   "source": [
    "#Removing unwanted  columns with least correlation from train df\n",
    "removable_columns = ['IsBeta','Census_IsFlightsDisabled','AutoSampleOptIn','SMode',\n",
    "                     'Census_IsPortableOperatingSystem','Census_DeviceFamily','UacLuaenable',\n",
    "                     'Census_IsVirtualDevice','Platform']\n",
    "train_df.drop(removable_columns, axis=1, inplace=True)"
   ]
  },
  {
   "cell_type": "code",
   "execution_count": 17,
   "id": "f384a1f3",
   "metadata": {},
   "outputs": [],
   "source": [
    "#Removing unwanted  columns with least correlation from test df\n",
    "removable_columns = ['IsBeta','Census_IsFlightsDisabled','AutoSampleOptIn',\n",
    "                     'Census_IsPortableOperatingSystem','Census_DeviceFamily','UacLuaenable',\n",
    "                     'Census_IsVirtualDevice','Platform']\n",
    "test_df.drop(removable_columns, axis=1, inplace=True)"
   ]
  },
  {
   "cell_type": "code",
   "execution_count": 18,
   "id": "5aba7b02",
   "metadata": {},
   "outputs": [],
   "source": [
    "#Calling the replace values\n",
    "train_df = replace_values(train_df)\n",
    "test_df = replace_values(test_df)"
   ]
  },
  {
   "cell_type": "code",
   "execution_count": 19,
   "id": "d7adcab8",
   "metadata": {},
   "outputs": [],
   "source": [
    "#Making the columns same of the test df as that of train df\n",
    "#test_df = test_df[train_df.columns.tolist()]"
   ]
  },
  {
   "cell_type": "code",
   "execution_count": 20,
   "id": "9f2944f4",
   "metadata": {},
   "outputs": [],
   "source": [
    "#Calling get dummies function\n",
    "train_df = get_dummies(train_df)\n",
    "test_df = get_dummies(test_df)"
   ]
  },
  {
   "cell_type": "code",
   "execution_count": 21,
   "id": "e8a5f950",
   "metadata": {},
   "outputs": [],
   "source": [
    "#Removing the columns from test_df which are unwanted and not present in the train_df\n",
    "train_df,test_df = make_columns_equal(train_df,test_df)"
   ]
  },
  {
   "cell_type": "code",
   "execution_count": 22,
   "id": "ea977636",
   "metadata": {},
   "outputs": [],
   "source": [
    "#renaming column names since it creates issues in light gbm\n",
    "train_df = train_df.rename(columns = lambda x:re.sub('[^A-Za-z0-9_]+', '', x))\n",
    "test_df = test_df.rename(columns = lambda x:re.sub('[^A-Za-z0-9_]+', '', x))"
   ]
  },
  {
   "cell_type": "code",
   "execution_count": 41,
   "id": "b2cdffd8",
   "metadata": {},
   "outputs": [],
   "source": [
    "#Assigning the parameters for light GBM \n",
    "features = list(train_df.columns)\n",
    "\n",
    "lgb_params = {'num_leaves': 100,\n",
    "         'min_data_in_leaf': 30, \n",
    "         'objective':'regression',\n",
    "         'max_depth': -1,\n",
    "         'learning_rate': 0.09, #0.09 new\n",
    "         \"boosting\": \"gbdt\",\n",
    "         \"feature_fraction\": 0.9,\n",
    "         \"bagging_freq\": 1, #1\n",
    "         \"bagging_fraction\": 0.9,#0.9 original\n",
    "         \"bagging_seed\": 42,\n",
    "         \"metric\": 'auc',\n",
    "         \"lambda_l1\": 0.1,\n",
    "         \"verbosity\": -1 }\n",
    "\n",
    "folds = KFold(n_splits=10, shuffle=True, random_state=42)\n",
    "oof_lgb = np.zeros(len(train_df))\n",
    "predictions_lgb = np.zeros(len(test_df))"
   ]
  },
  {
   "cell_type": "code",
   "execution_count": 59,
   "id": "b7a966ba",
   "metadata": {},
   "outputs": [
    {
     "name": "stdout",
     "output_type": "stream",
     "text": [
      "-\n",
      "Fold 1\n"
     ]
    },
    {
     "name": "stderr",
     "output_type": "stream",
     "text": [
      "C:\\Users\\prati\\anaconda3\\lib\\site-packages\\lightgbm\\engine.py:181: UserWarning: 'early_stopping_rounds' argument is deprecated and will be removed in a future release of LightGBM. Pass 'early_stopping()' callback via 'callbacks' argument instead.\n",
      "  _log_warning(\"'early_stopping_rounds' argument is deprecated and will be removed in a future release of LightGBM. \"\n",
      "C:\\Users\\prati\\anaconda3\\lib\\site-packages\\lightgbm\\engine.py:239: UserWarning: 'verbose_eval' argument is deprecated and will be removed in a future release of LightGBM. Pass 'log_evaluation()' callback via 'callbacks' argument instead.\n",
      "  _log_warning(\"'verbose_eval' argument is deprecated and will be removed in a future release of LightGBM. \"\n"
     ]
    },
    {
     "name": "stdout",
     "output_type": "stream",
     "text": [
      "Training until validation scores don't improve for 150 rounds\n",
      "[100]\ttraining's auc: 0.733723\tvalid_1's auc: 0.690076\n",
      "[200]\ttraining's auc: 0.762998\tvalid_1's auc: 0.689172\n",
      "Early stopping, best iteration is:\n",
      "[93]\ttraining's auc: 0.731223\tvalid_1's auc: 0.690203\n",
      "-\n",
      "Fold 2\n"
     ]
    },
    {
     "name": "stderr",
     "output_type": "stream",
     "text": [
      "C:\\Users\\prati\\anaconda3\\lib\\site-packages\\lightgbm\\engine.py:181: UserWarning: 'early_stopping_rounds' argument is deprecated and will be removed in a future release of LightGBM. Pass 'early_stopping()' callback via 'callbacks' argument instead.\n",
      "  _log_warning(\"'early_stopping_rounds' argument is deprecated and will be removed in a future release of LightGBM. \"\n",
      "C:\\Users\\prati\\anaconda3\\lib\\site-packages\\lightgbm\\engine.py:239: UserWarning: 'verbose_eval' argument is deprecated and will be removed in a future release of LightGBM. Pass 'log_evaluation()' callback via 'callbacks' argument instead.\n",
      "  _log_warning(\"'verbose_eval' argument is deprecated and will be removed in a future release of LightGBM. \"\n"
     ]
    },
    {
     "name": "stdout",
     "output_type": "stream",
     "text": [
      "Training until validation scores don't improve for 150 rounds\n",
      "[100]\ttraining's auc: 0.735175\tvalid_1's auc: 0.681477\n",
      "[200]\ttraining's auc: 0.763692\tvalid_1's auc: 0.678508\n",
      "Early stopping, best iteration is:\n",
      "[69]\ttraining's auc: 0.7229\tvalid_1's auc: 0.682314\n",
      "-\n",
      "Fold 3\n"
     ]
    },
    {
     "name": "stderr",
     "output_type": "stream",
     "text": [
      "C:\\Users\\prati\\anaconda3\\lib\\site-packages\\lightgbm\\engine.py:181: UserWarning: 'early_stopping_rounds' argument is deprecated and will be removed in a future release of LightGBM. Pass 'early_stopping()' callback via 'callbacks' argument instead.\n",
      "  _log_warning(\"'early_stopping_rounds' argument is deprecated and will be removed in a future release of LightGBM. \"\n",
      "C:\\Users\\prati\\anaconda3\\lib\\site-packages\\lightgbm\\engine.py:239: UserWarning: 'verbose_eval' argument is deprecated and will be removed in a future release of LightGBM. Pass 'log_evaluation()' callback via 'callbacks' argument instead.\n",
      "  _log_warning(\"'verbose_eval' argument is deprecated and will be removed in a future release of LightGBM. \"\n"
     ]
    },
    {
     "name": "stdout",
     "output_type": "stream",
     "text": [
      "Training until validation scores don't improve for 150 rounds\n",
      "[100]\ttraining's auc: 0.733503\tvalid_1's auc: 0.678165\n",
      "[200]\ttraining's auc: 0.76292\tvalid_1's auc: 0.677851\n",
      "Early stopping, best iteration is:\n",
      "[98]\ttraining's auc: 0.73279\tvalid_1's auc: 0.678323\n",
      "-\n",
      "Fold 4\n"
     ]
    },
    {
     "name": "stderr",
     "output_type": "stream",
     "text": [
      "C:\\Users\\prati\\anaconda3\\lib\\site-packages\\lightgbm\\engine.py:181: UserWarning: 'early_stopping_rounds' argument is deprecated and will be removed in a future release of LightGBM. Pass 'early_stopping()' callback via 'callbacks' argument instead.\n",
      "  _log_warning(\"'early_stopping_rounds' argument is deprecated and will be removed in a future release of LightGBM. \"\n",
      "C:\\Users\\prati\\anaconda3\\lib\\site-packages\\lightgbm\\engine.py:239: UserWarning: 'verbose_eval' argument is deprecated and will be removed in a future release of LightGBM. Pass 'log_evaluation()' callback via 'callbacks' argument instead.\n",
      "  _log_warning(\"'verbose_eval' argument is deprecated and will be removed in a future release of LightGBM. \"\n"
     ]
    },
    {
     "name": "stdout",
     "output_type": "stream",
     "text": [
      "Training until validation scores don't improve for 150 rounds\n",
      "[100]\ttraining's auc: 0.733824\tvalid_1's auc: 0.67586\n",
      "[200]\ttraining's auc: 0.762699\tvalid_1's auc: 0.67383\n",
      "Early stopping, best iteration is:\n",
      "[114]\ttraining's auc: 0.738878\tvalid_1's auc: 0.67621\n",
      "-\n",
      "Fold 5\n"
     ]
    },
    {
     "name": "stderr",
     "output_type": "stream",
     "text": [
      "C:\\Users\\prati\\anaconda3\\lib\\site-packages\\lightgbm\\engine.py:181: UserWarning: 'early_stopping_rounds' argument is deprecated and will be removed in a future release of LightGBM. Pass 'early_stopping()' callback via 'callbacks' argument instead.\n",
      "  _log_warning(\"'early_stopping_rounds' argument is deprecated and will be removed in a future release of LightGBM. \"\n",
      "C:\\Users\\prati\\anaconda3\\lib\\site-packages\\lightgbm\\engine.py:239: UserWarning: 'verbose_eval' argument is deprecated and will be removed in a future release of LightGBM. Pass 'log_evaluation()' callback via 'callbacks' argument instead.\n",
      "  _log_warning(\"'verbose_eval' argument is deprecated and will be removed in a future release of LightGBM. \"\n"
     ]
    },
    {
     "name": "stdout",
     "output_type": "stream",
     "text": [
      "Training until validation scores don't improve for 150 rounds\n",
      "[100]\ttraining's auc: 0.734391\tvalid_1's auc: 0.68039\n",
      "[200]\ttraining's auc: 0.763507\tvalid_1's auc: 0.678349\n",
      "Early stopping, best iteration is:\n",
      "[54]\ttraining's auc: 0.715927\tvalid_1's auc: 0.68162\n",
      "-\n",
      "Fold 6\n"
     ]
    },
    {
     "name": "stderr",
     "output_type": "stream",
     "text": [
      "C:\\Users\\prati\\anaconda3\\lib\\site-packages\\lightgbm\\engine.py:181: UserWarning: 'early_stopping_rounds' argument is deprecated and will be removed in a future release of LightGBM. Pass 'early_stopping()' callback via 'callbacks' argument instead.\n",
      "  _log_warning(\"'early_stopping_rounds' argument is deprecated and will be removed in a future release of LightGBM. \"\n",
      "C:\\Users\\prati\\anaconda3\\lib\\site-packages\\lightgbm\\engine.py:239: UserWarning: 'verbose_eval' argument is deprecated and will be removed in a future release of LightGBM. Pass 'log_evaluation()' callback via 'callbacks' argument instead.\n",
      "  _log_warning(\"'verbose_eval' argument is deprecated and will be removed in a future release of LightGBM. \"\n"
     ]
    },
    {
     "name": "stdout",
     "output_type": "stream",
     "text": [
      "Training until validation scores don't improve for 150 rounds\n",
      "[100]\ttraining's auc: 0.734895\tvalid_1's auc: 0.679661\n",
      "Early stopping, best iteration is:\n",
      "[28]\ttraining's auc: 0.700299\tvalid_1's auc: 0.682879\n",
      "-\n",
      "Fold 7\n"
     ]
    },
    {
     "name": "stderr",
     "output_type": "stream",
     "text": [
      "C:\\Users\\prati\\anaconda3\\lib\\site-packages\\lightgbm\\engine.py:181: UserWarning: 'early_stopping_rounds' argument is deprecated and will be removed in a future release of LightGBM. Pass 'early_stopping()' callback via 'callbacks' argument instead.\n",
      "  _log_warning(\"'early_stopping_rounds' argument is deprecated and will be removed in a future release of LightGBM. \"\n",
      "C:\\Users\\prati\\anaconda3\\lib\\site-packages\\lightgbm\\engine.py:239: UserWarning: 'verbose_eval' argument is deprecated and will be removed in a future release of LightGBM. Pass 'log_evaluation()' callback via 'callbacks' argument instead.\n",
      "  _log_warning(\"'verbose_eval' argument is deprecated and will be removed in a future release of LightGBM. \"\n"
     ]
    },
    {
     "name": "stdout",
     "output_type": "stream",
     "text": [
      "Training until validation scores don't improve for 150 rounds\n",
      "[100]\ttraining's auc: 0.734407\tvalid_1's auc: 0.674828\n",
      "[200]\ttraining's auc: 0.763695\tvalid_1's auc: 0.671359\n",
      "Early stopping, best iteration is:\n",
      "[88]\ttraining's auc: 0.730052\tvalid_1's auc: 0.675224\n",
      "-\n",
      "Fold 8\n"
     ]
    },
    {
     "name": "stderr",
     "output_type": "stream",
     "text": [
      "C:\\Users\\prati\\anaconda3\\lib\\site-packages\\lightgbm\\engine.py:181: UserWarning: 'early_stopping_rounds' argument is deprecated and will be removed in a future release of LightGBM. Pass 'early_stopping()' callback via 'callbacks' argument instead.\n",
      "  _log_warning(\"'early_stopping_rounds' argument is deprecated and will be removed in a future release of LightGBM. \"\n",
      "C:\\Users\\prati\\anaconda3\\lib\\site-packages\\lightgbm\\engine.py:239: UserWarning: 'verbose_eval' argument is deprecated and will be removed in a future release of LightGBM. Pass 'log_evaluation()' callback via 'callbacks' argument instead.\n",
      "  _log_warning(\"'verbose_eval' argument is deprecated and will be removed in a future release of LightGBM. \"\n"
     ]
    },
    {
     "name": "stdout",
     "output_type": "stream",
     "text": [
      "Training until validation scores don't improve for 150 rounds\n",
      "[100]\ttraining's auc: 0.735037\tvalid_1's auc: 0.669653\n",
      "[200]\ttraining's auc: 0.76325\tvalid_1's auc: 0.666743\n",
      "Early stopping, best iteration is:\n",
      "[121]\ttraining's auc: 0.741929\tvalid_1's auc: 0.669955\n",
      "-\n",
      "Fold 9\n"
     ]
    },
    {
     "name": "stderr",
     "output_type": "stream",
     "text": [
      "C:\\Users\\prati\\anaconda3\\lib\\site-packages\\lightgbm\\engine.py:181: UserWarning: 'early_stopping_rounds' argument is deprecated and will be removed in a future release of LightGBM. Pass 'early_stopping()' callback via 'callbacks' argument instead.\n",
      "  _log_warning(\"'early_stopping_rounds' argument is deprecated and will be removed in a future release of LightGBM. \"\n",
      "C:\\Users\\prati\\anaconda3\\lib\\site-packages\\lightgbm\\engine.py:239: UserWarning: 'verbose_eval' argument is deprecated and will be removed in a future release of LightGBM. Pass 'log_evaluation()' callback via 'callbacks' argument instead.\n",
      "  _log_warning(\"'verbose_eval' argument is deprecated and will be removed in a future release of LightGBM. \"\n"
     ]
    },
    {
     "name": "stdout",
     "output_type": "stream",
     "text": [
      "Training until validation scores don't improve for 150 rounds\n",
      "[100]\ttraining's auc: 0.734093\tvalid_1's auc: 0.675585\n",
      "[200]\ttraining's auc: 0.76369\tvalid_1's auc: 0.673532\n",
      "Early stopping, best iteration is:\n",
      "[63]\ttraining's auc: 0.719904\tvalid_1's auc: 0.675912\n",
      "-\n",
      "Fold 10\n"
     ]
    },
    {
     "name": "stderr",
     "output_type": "stream",
     "text": [
      "C:\\Users\\prati\\anaconda3\\lib\\site-packages\\lightgbm\\engine.py:181: UserWarning: 'early_stopping_rounds' argument is deprecated and will be removed in a future release of LightGBM. Pass 'early_stopping()' callback via 'callbacks' argument instead.\n",
      "  _log_warning(\"'early_stopping_rounds' argument is deprecated and will be removed in a future release of LightGBM. \"\n",
      "C:\\Users\\prati\\anaconda3\\lib\\site-packages\\lightgbm\\engine.py:239: UserWarning: 'verbose_eval' argument is deprecated and will be removed in a future release of LightGBM. Pass 'log_evaluation()' callback via 'callbacks' argument instead.\n",
      "  _log_warning(\"'verbose_eval' argument is deprecated and will be removed in a future release of LightGBM. \"\n"
     ]
    },
    {
     "name": "stdout",
     "output_type": "stream",
     "text": [
      "Training until validation scores don't improve for 150 rounds\n",
      "[100]\ttraining's auc: 0.734402\tvalid_1's auc: 0.68215\n",
      "[200]\ttraining's auc: 0.763408\tvalid_1's auc: 0.68123\n",
      "Early stopping, best iteration is:\n",
      "[76]\ttraining's auc: 0.725393\tvalid_1's auc: 0.682551\n"
     ]
    }
   ],
   "source": [
    "#Light GBM function call\n",
    "evals_result = {}\n",
    "for fold_, (trn_idx, val_idx) in enumerate(folds.split(train_df.values, target.values)):\n",
    "    print('-')\n",
    "    print(\"Fold {}\".format(fold_ + 1))\n",
    "    trn_data = lgb.Dataset(train_df.iloc[trn_idx][features], label=target.iloc[trn_idx])\n",
    "    val_data = lgb.Dataset(train_df.iloc[val_idx][features], label=target.iloc[val_idx])\n",
    "\n",
    "    num_round = 10000\n",
    "    clf = lgb.train(lgb_params, trn_data, num_round, valid_sets = [trn_data, val_data], verbose_eval=100, early_stopping_rounds=150,\n",
    "                    callbacks=[lgb.record_evaluation(evals_result)])\n",
    "    \n",
    "    oof_lgb[val_idx] = clf.predict(train_df.iloc[val_idx][features], num_iteration=clf.best_iteration)\n",
    "    predictions_lgb += clf.predict(test_df[features], num_iteration=clf.best_iteration) / folds.n_splits"
   ]
  },
  {
   "cell_type": "code",
   "execution_count": 46,
   "id": "145624f2",
   "metadata": {},
   "outputs": [],
   "source": [
    "#Convert prediction values into binary  for the predictions of 'HasDetections' column for the validation set\n",
    "y_pred = []\n",
    "for i in range(len(oof_lgb)):\n",
    "    if oof_lgb[i]>=.5:       # setting threshold to .5\n",
    "        y_pred.append(1)\n",
    "    else:  \n",
    "        y_pred.append(0)"
   ]
  },
  {
   "cell_type": "code",
   "execution_count": 47,
   "id": "db3289f5",
   "metadata": {},
   "outputs": [
    {
     "data": {
      "text/plain": [
       "array([0.51346745, 0.62598391, 0.54195459, ..., 0.33110412, 0.32847675,\n",
       "       0.4096812 ])"
      ]
     },
     "execution_count": 47,
     "metadata": {},
     "output_type": "execute_result"
    }
   ],
   "source": [
    "#Showing the validation dataset\n",
    "oof_lgb"
   ]
  },
  {
   "cell_type": "code",
   "execution_count": 48,
   "id": "6eb14a6b",
   "metadata": {},
   "outputs": [
    {
     "data": {
      "text/plain": [
       "array([0.49565008, 0.63758604, 0.46727461, ..., 0.82468542, 0.28641013,\n",
       "       0.40624459])"
      ]
     },
     "execution_count": 48,
     "metadata": {},
     "output_type": "execute_result"
    }
   ],
   "source": [
    "#Showing the predictions of the test_df\n",
    "predictions_lgb"
   ]
  },
  {
   "cell_type": "code",
   "execution_count": 49,
   "id": "ce0a2706",
   "metadata": {},
   "outputs": [
    {
     "data": {
      "text/html": [
       "<div>\n",
       "<style scoped>\n",
       "    .dataframe tbody tr th:only-of-type {\n",
       "        vertical-align: middle;\n",
       "    }\n",
       "\n",
       "    .dataframe tbody tr th {\n",
       "        vertical-align: top;\n",
       "    }\n",
       "\n",
       "    .dataframe thead th {\n",
       "        text-align: right;\n",
       "    }\n",
       "</style>\n",
       "<table border=\"1\" class=\"dataframe\">\n",
       "  <thead>\n",
       "    <tr style=\"text-align: right;\">\n",
       "      <th></th>\n",
       "      <th>MachineIdentifier</th>\n",
       "      <th>HasDetections</th>\n",
       "      <th>Predictions</th>\n",
       "    </tr>\n",
       "  </thead>\n",
       "  <tbody>\n",
       "    <tr>\n",
       "      <th>0</th>\n",
       "      <td>0000028988387b115f69f31a3bf04f09</td>\n",
       "      <td>0</td>\n",
       "      <td>1</td>\n",
       "    </tr>\n",
       "    <tr>\n",
       "      <th>1</th>\n",
       "      <td>000007535c3f730efa9ea0b7ef1bd645</td>\n",
       "      <td>0</td>\n",
       "      <td>1</td>\n",
       "    </tr>\n",
       "    <tr>\n",
       "      <th>2</th>\n",
       "      <td>000007905a28d863f6d0d597892cd692</td>\n",
       "      <td>0</td>\n",
       "      <td>1</td>\n",
       "    </tr>\n",
       "    <tr>\n",
       "      <th>3</th>\n",
       "      <td>00000b11598a75ea8ba1beea8459149f</td>\n",
       "      <td>1</td>\n",
       "      <td>1</td>\n",
       "    </tr>\n",
       "    <tr>\n",
       "      <th>4</th>\n",
       "      <td>000014a5f00daa18e76b81417eeb99fc</td>\n",
       "      <td>1</td>\n",
       "      <td>1</td>\n",
       "    </tr>\n",
       "    <tr>\n",
       "      <th>...</th>\n",
       "      <td>...</td>\n",
       "      <td>...</td>\n",
       "      <td>...</td>\n",
       "    </tr>\n",
       "    <tr>\n",
       "      <th>99995</th>\n",
       "      <td>02e11f9b051950ba19ef87553f24b3d2</td>\n",
       "      <td>0</td>\n",
       "      <td>0</td>\n",
       "    </tr>\n",
       "    <tr>\n",
       "      <th>99996</th>\n",
       "      <td>02e11ff750f98912e9073afe15bf5018</td>\n",
       "      <td>1</td>\n",
       "      <td>1</td>\n",
       "    </tr>\n",
       "    <tr>\n",
       "      <th>99997</th>\n",
       "      <td>02e120fd73a9b3981b80a879f1d94729</td>\n",
       "      <td>0</td>\n",
       "      <td>0</td>\n",
       "    </tr>\n",
       "    <tr>\n",
       "      <th>99998</th>\n",
       "      <td>02e123408acf92064932e0900a42667b</td>\n",
       "      <td>0</td>\n",
       "      <td>0</td>\n",
       "    </tr>\n",
       "    <tr>\n",
       "      <th>99999</th>\n",
       "      <td>02e125f54e5e4aefc7a42cae452fe9b2</td>\n",
       "      <td>0</td>\n",
       "      <td>0</td>\n",
       "    </tr>\n",
       "  </tbody>\n",
       "</table>\n",
       "<p>100000 rows × 3 columns</p>\n",
       "</div>"
      ],
      "text/plain": [
       "                      MachineIdentifier  HasDetections  Predictions\n",
       "0      0000028988387b115f69f31a3bf04f09              0            1\n",
       "1      000007535c3f730efa9ea0b7ef1bd645              0            1\n",
       "2      000007905a28d863f6d0d597892cd692              0            1\n",
       "3      00000b11598a75ea8ba1beea8459149f              1            1\n",
       "4      000014a5f00daa18e76b81417eeb99fc              1            1\n",
       "...                                 ...            ...          ...\n",
       "99995  02e11f9b051950ba19ef87553f24b3d2              0            0\n",
       "99996  02e11ff750f98912e9073afe15bf5018              1            1\n",
       "99997  02e120fd73a9b3981b80a879f1d94729              0            0\n",
       "99998  02e123408acf92064932e0900a42667b              0            0\n",
       "99999  02e125f54e5e4aefc7a42cae452fe9b2              0            0\n",
       "\n",
       "[100000 rows x 3 columns]"
      ]
     },
     "execution_count": 49,
     "metadata": {},
     "output_type": "execute_result"
    }
   ],
   "source": [
    "#Showing Predictions and HasDetections for train data set\n",
    "train_df_1['Predictions'] = y_pred\n",
    "train_df_1[['MachineIdentifier','HasDetections','Predictions']]"
   ]
  },
  {
   "cell_type": "code",
   "execution_count": 29,
   "id": "63d60022",
   "metadata": {},
   "outputs": [],
   "source": [
    "#Finally we are appending predicted values to test_df\n",
    "test_df['Pred_HasDetections'] = predictions_lgb"
   ]
  },
  {
   "cell_type": "code",
   "execution_count": 30,
   "id": "665bfad5",
   "metadata": {},
   "outputs": [
    {
     "data": {
      "text/html": [
       "<div>\n",
       "<style scoped>\n",
       "    .dataframe tbody tr th:only-of-type {\n",
       "        vertical-align: middle;\n",
       "    }\n",
       "\n",
       "    .dataframe tbody tr th {\n",
       "        vertical-align: top;\n",
       "    }\n",
       "\n",
       "    .dataframe thead th {\n",
       "        text-align: right;\n",
       "    }\n",
       "</style>\n",
       "<table border=\"1\" class=\"dataframe\">\n",
       "  <thead>\n",
       "    <tr style=\"text-align: right;\">\n",
       "      <th></th>\n",
       "      <th>ProductName_mse</th>\n",
       "      <th>ProductName_win8defender</th>\n",
       "      <th>RtpStateBitfield_00</th>\n",
       "      <th>RtpStateBitfield_10</th>\n",
       "      <th>RtpStateBitfield_30</th>\n",
       "      <th>RtpStateBitfield_50</th>\n",
       "      <th>RtpStateBitfield_70</th>\n",
       "      <th>RtpStateBitfield_80</th>\n",
       "      <th>IsSxsPassiveMode_0</th>\n",
       "      <th>IsSxsPassiveMode_1</th>\n",
       "      <th>...</th>\n",
       "      <th>Census_ProcessorCoreCount_480</th>\n",
       "      <th>OsVer_6130</th>\n",
       "      <th>Census_ProcessorCoreCount_320</th>\n",
       "      <th>Census_ProcessorCoreCount_100</th>\n",
       "      <th>Census_ProcessorCoreCount_30</th>\n",
       "      <th>Census_OSEdition_EnterpriseS</th>\n",
       "      <th>Census_ProcessorCoreCount_400</th>\n",
       "      <th>Census_OSEdition_ProfessionalEducationN</th>\n",
       "      <th>Census_OSEdition_CoreSingleLanguage</th>\n",
       "      <th>Pred_HasDetections</th>\n",
       "    </tr>\n",
       "  </thead>\n",
       "  <tbody>\n",
       "    <tr>\n",
       "      <th>0</th>\n",
       "      <td>0</td>\n",
       "      <td>1</td>\n",
       "      <td>0</td>\n",
       "      <td>0</td>\n",
       "      <td>0</td>\n",
       "      <td>0</td>\n",
       "      <td>1</td>\n",
       "      <td>0</td>\n",
       "      <td>1</td>\n",
       "      <td>0</td>\n",
       "      <td>...</td>\n",
       "      <td>0</td>\n",
       "      <td>0</td>\n",
       "      <td>0</td>\n",
       "      <td>0</td>\n",
       "      <td>0</td>\n",
       "      <td>0</td>\n",
       "      <td>0</td>\n",
       "      <td>0</td>\n",
       "      <td>0</td>\n",
       "      <td>0.495650</td>\n",
       "    </tr>\n",
       "    <tr>\n",
       "      <th>1</th>\n",
       "      <td>0</td>\n",
       "      <td>1</td>\n",
       "      <td>0</td>\n",
       "      <td>0</td>\n",
       "      <td>0</td>\n",
       "      <td>0</td>\n",
       "      <td>1</td>\n",
       "      <td>0</td>\n",
       "      <td>1</td>\n",
       "      <td>0</td>\n",
       "      <td>...</td>\n",
       "      <td>0</td>\n",
       "      <td>0</td>\n",
       "      <td>0</td>\n",
       "      <td>0</td>\n",
       "      <td>0</td>\n",
       "      <td>0</td>\n",
       "      <td>0</td>\n",
       "      <td>0</td>\n",
       "      <td>0</td>\n",
       "      <td>0.637586</td>\n",
       "    </tr>\n",
       "    <tr>\n",
       "      <th>2</th>\n",
       "      <td>0</td>\n",
       "      <td>1</td>\n",
       "      <td>0</td>\n",
       "      <td>0</td>\n",
       "      <td>0</td>\n",
       "      <td>0</td>\n",
       "      <td>1</td>\n",
       "      <td>0</td>\n",
       "      <td>1</td>\n",
       "      <td>0</td>\n",
       "      <td>...</td>\n",
       "      <td>0</td>\n",
       "      <td>0</td>\n",
       "      <td>0</td>\n",
       "      <td>0</td>\n",
       "      <td>0</td>\n",
       "      <td>0</td>\n",
       "      <td>0</td>\n",
       "      <td>0</td>\n",
       "      <td>0</td>\n",
       "      <td>0.467275</td>\n",
       "    </tr>\n",
       "    <tr>\n",
       "      <th>3</th>\n",
       "      <td>0</td>\n",
       "      <td>1</td>\n",
       "      <td>0</td>\n",
       "      <td>0</td>\n",
       "      <td>0</td>\n",
       "      <td>0</td>\n",
       "      <td>1</td>\n",
       "      <td>0</td>\n",
       "      <td>1</td>\n",
       "      <td>0</td>\n",
       "      <td>...</td>\n",
       "      <td>0</td>\n",
       "      <td>0</td>\n",
       "      <td>0</td>\n",
       "      <td>0</td>\n",
       "      <td>0</td>\n",
       "      <td>0</td>\n",
       "      <td>0</td>\n",
       "      <td>0</td>\n",
       "      <td>0</td>\n",
       "      <td>0.365824</td>\n",
       "    </tr>\n",
       "    <tr>\n",
       "      <th>4</th>\n",
       "      <td>0</td>\n",
       "      <td>1</td>\n",
       "      <td>0</td>\n",
       "      <td>0</td>\n",
       "      <td>0</td>\n",
       "      <td>0</td>\n",
       "      <td>1</td>\n",
       "      <td>0</td>\n",
       "      <td>1</td>\n",
       "      <td>0</td>\n",
       "      <td>...</td>\n",
       "      <td>0</td>\n",
       "      <td>0</td>\n",
       "      <td>0</td>\n",
       "      <td>0</td>\n",
       "      <td>0</td>\n",
       "      <td>0</td>\n",
       "      <td>0</td>\n",
       "      <td>0</td>\n",
       "      <td>0</td>\n",
       "      <td>0.553360</td>\n",
       "    </tr>\n",
       "    <tr>\n",
       "      <th>...</th>\n",
       "      <td>...</td>\n",
       "      <td>...</td>\n",
       "      <td>...</td>\n",
       "      <td>...</td>\n",
       "      <td>...</td>\n",
       "      <td>...</td>\n",
       "      <td>...</td>\n",
       "      <td>...</td>\n",
       "      <td>...</td>\n",
       "      <td>...</td>\n",
       "      <td>...</td>\n",
       "      <td>...</td>\n",
       "      <td>...</td>\n",
       "      <td>...</td>\n",
       "      <td>...</td>\n",
       "      <td>...</td>\n",
       "      <td>...</td>\n",
       "      <td>...</td>\n",
       "      <td>...</td>\n",
       "      <td>...</td>\n",
       "      <td>...</td>\n",
       "    </tr>\n",
       "    <tr>\n",
       "      <th>99995</th>\n",
       "      <td>0</td>\n",
       "      <td>1</td>\n",
       "      <td>0</td>\n",
       "      <td>0</td>\n",
       "      <td>0</td>\n",
       "      <td>0</td>\n",
       "      <td>1</td>\n",
       "      <td>0</td>\n",
       "      <td>1</td>\n",
       "      <td>0</td>\n",
       "      <td>...</td>\n",
       "      <td>0</td>\n",
       "      <td>0</td>\n",
       "      <td>0</td>\n",
       "      <td>0</td>\n",
       "      <td>0</td>\n",
       "      <td>0</td>\n",
       "      <td>0</td>\n",
       "      <td>0</td>\n",
       "      <td>0</td>\n",
       "      <td>0.548795</td>\n",
       "    </tr>\n",
       "    <tr>\n",
       "      <th>99996</th>\n",
       "      <td>0</td>\n",
       "      <td>1</td>\n",
       "      <td>0</td>\n",
       "      <td>0</td>\n",
       "      <td>0</td>\n",
       "      <td>0</td>\n",
       "      <td>1</td>\n",
       "      <td>0</td>\n",
       "      <td>1</td>\n",
       "      <td>0</td>\n",
       "      <td>...</td>\n",
       "      <td>0</td>\n",
       "      <td>0</td>\n",
       "      <td>0</td>\n",
       "      <td>0</td>\n",
       "      <td>0</td>\n",
       "      <td>0</td>\n",
       "      <td>0</td>\n",
       "      <td>0</td>\n",
       "      <td>0</td>\n",
       "      <td>0.535258</td>\n",
       "    </tr>\n",
       "    <tr>\n",
       "      <th>99997</th>\n",
       "      <td>0</td>\n",
       "      <td>1</td>\n",
       "      <td>0</td>\n",
       "      <td>0</td>\n",
       "      <td>0</td>\n",
       "      <td>0</td>\n",
       "      <td>1</td>\n",
       "      <td>0</td>\n",
       "      <td>1</td>\n",
       "      <td>0</td>\n",
       "      <td>...</td>\n",
       "      <td>0</td>\n",
       "      <td>0</td>\n",
       "      <td>0</td>\n",
       "      <td>0</td>\n",
       "      <td>0</td>\n",
       "      <td>0</td>\n",
       "      <td>0</td>\n",
       "      <td>0</td>\n",
       "      <td>0</td>\n",
       "      <td>0.824685</td>\n",
       "    </tr>\n",
       "    <tr>\n",
       "      <th>99998</th>\n",
       "      <td>0</td>\n",
       "      <td>1</td>\n",
       "      <td>0</td>\n",
       "      <td>0</td>\n",
       "      <td>0</td>\n",
       "      <td>0</td>\n",
       "      <td>1</td>\n",
       "      <td>0</td>\n",
       "      <td>1</td>\n",
       "      <td>0</td>\n",
       "      <td>...</td>\n",
       "      <td>0</td>\n",
       "      <td>0</td>\n",
       "      <td>0</td>\n",
       "      <td>0</td>\n",
       "      <td>0</td>\n",
       "      <td>0</td>\n",
       "      <td>0</td>\n",
       "      <td>0</td>\n",
       "      <td>0</td>\n",
       "      <td>0.286410</td>\n",
       "    </tr>\n",
       "    <tr>\n",
       "      <th>99999</th>\n",
       "      <td>0</td>\n",
       "      <td>1</td>\n",
       "      <td>0</td>\n",
       "      <td>0</td>\n",
       "      <td>0</td>\n",
       "      <td>0</td>\n",
       "      <td>1</td>\n",
       "      <td>0</td>\n",
       "      <td>1</td>\n",
       "      <td>0</td>\n",
       "      <td>...</td>\n",
       "      <td>0</td>\n",
       "      <td>0</td>\n",
       "      <td>0</td>\n",
       "      <td>0</td>\n",
       "      <td>0</td>\n",
       "      <td>0</td>\n",
       "      <td>0</td>\n",
       "      <td>0</td>\n",
       "      <td>0</td>\n",
       "      <td>0.406245</td>\n",
       "    </tr>\n",
       "  </tbody>\n",
       "</table>\n",
       "<p>100000 rows × 235 columns</p>\n",
       "</div>"
      ],
      "text/plain": [
       "       ProductName_mse  ProductName_win8defender  RtpStateBitfield_00  \\\n",
       "0                    0                         1                    0   \n",
       "1                    0                         1                    0   \n",
       "2                    0                         1                    0   \n",
       "3                    0                         1                    0   \n",
       "4                    0                         1                    0   \n",
       "...                ...                       ...                  ...   \n",
       "99995                0                         1                    0   \n",
       "99996                0                         1                    0   \n",
       "99997                0                         1                    0   \n",
       "99998                0                         1                    0   \n",
       "99999                0                         1                    0   \n",
       "\n",
       "       RtpStateBitfield_10  RtpStateBitfield_30  RtpStateBitfield_50  \\\n",
       "0                        0                    0                    0   \n",
       "1                        0                    0                    0   \n",
       "2                        0                    0                    0   \n",
       "3                        0                    0                    0   \n",
       "4                        0                    0                    0   \n",
       "...                    ...                  ...                  ...   \n",
       "99995                    0                    0                    0   \n",
       "99996                    0                    0                    0   \n",
       "99997                    0                    0                    0   \n",
       "99998                    0                    0                    0   \n",
       "99999                    0                    0                    0   \n",
       "\n",
       "       RtpStateBitfield_70  RtpStateBitfield_80  IsSxsPassiveMode_0  \\\n",
       "0                        1                    0                   1   \n",
       "1                        1                    0                   1   \n",
       "2                        1                    0                   1   \n",
       "3                        1                    0                   1   \n",
       "4                        1                    0                   1   \n",
       "...                    ...                  ...                 ...   \n",
       "99995                    1                    0                   1   \n",
       "99996                    1                    0                   1   \n",
       "99997                    1                    0                   1   \n",
       "99998                    1                    0                   1   \n",
       "99999                    1                    0                   1   \n",
       "\n",
       "       IsSxsPassiveMode_1  ...  Census_ProcessorCoreCount_480  OsVer_6130  \\\n",
       "0                       0  ...                              0           0   \n",
       "1                       0  ...                              0           0   \n",
       "2                       0  ...                              0           0   \n",
       "3                       0  ...                              0           0   \n",
       "4                       0  ...                              0           0   \n",
       "...                   ...  ...                            ...         ...   \n",
       "99995                   0  ...                              0           0   \n",
       "99996                   0  ...                              0           0   \n",
       "99997                   0  ...                              0           0   \n",
       "99998                   0  ...                              0           0   \n",
       "99999                   0  ...                              0           0   \n",
       "\n",
       "       Census_ProcessorCoreCount_320  Census_ProcessorCoreCount_100  \\\n",
       "0                                  0                              0   \n",
       "1                                  0                              0   \n",
       "2                                  0                              0   \n",
       "3                                  0                              0   \n",
       "4                                  0                              0   \n",
       "...                              ...                            ...   \n",
       "99995                              0                              0   \n",
       "99996                              0                              0   \n",
       "99997                              0                              0   \n",
       "99998                              0                              0   \n",
       "99999                              0                              0   \n",
       "\n",
       "       Census_ProcessorCoreCount_30  Census_OSEdition_EnterpriseS  \\\n",
       "0                                 0                             0   \n",
       "1                                 0                             0   \n",
       "2                                 0                             0   \n",
       "3                                 0                             0   \n",
       "4                                 0                             0   \n",
       "...                             ...                           ...   \n",
       "99995                             0                             0   \n",
       "99996                             0                             0   \n",
       "99997                             0                             0   \n",
       "99998                             0                             0   \n",
       "99999                             0                             0   \n",
       "\n",
       "       Census_ProcessorCoreCount_400  Census_OSEdition_ProfessionalEducationN  \\\n",
       "0                                  0                                        0   \n",
       "1                                  0                                        0   \n",
       "2                                  0                                        0   \n",
       "3                                  0                                        0   \n",
       "4                                  0                                        0   \n",
       "...                              ...                                      ...   \n",
       "99995                              0                                        0   \n",
       "99996                              0                                        0   \n",
       "99997                              0                                        0   \n",
       "99998                              0                                        0   \n",
       "99999                              0                                        0   \n",
       "\n",
       "       Census_OSEdition_CoreSingleLanguage  Pred_HasDetections  \n",
       "0                                        0            0.495650  \n",
       "1                                        0            0.637586  \n",
       "2                                        0            0.467275  \n",
       "3                                        0            0.365824  \n",
       "4                                        0            0.553360  \n",
       "...                                    ...                 ...  \n",
       "99995                                    0            0.548795  \n",
       "99996                                    0            0.535258  \n",
       "99997                                    0            0.824685  \n",
       "99998                                    0            0.286410  \n",
       "99999                                    0            0.406245  \n",
       "\n",
       "[100000 rows x 235 columns]"
      ]
     },
     "execution_count": 30,
     "metadata": {},
     "output_type": "execute_result"
    }
   ],
   "source": [
    "test_df"
   ]
  },
  {
   "cell_type": "code",
   "execution_count": 50,
   "id": "4142c20f",
   "metadata": {},
   "outputs": [
    {
     "name": "stdout",
     "output_type": "stream",
     "text": [
      "Accuracy on the Training Set is  62.498 %\n"
     ]
    }
   ],
   "source": [
    "#Getting accuracy for the validation set\n",
    "accuracy=accuracy_score(y_pred,target)\n",
    "print('Accuracy on the Training Set is ',accuracy*100,'%')"
   ]
  },
  {
   "cell_type": "code",
   "execution_count": 51,
   "id": "5f8f8d44",
   "metadata": {},
   "outputs": [
    {
     "name": "stdout",
     "output_type": "stream",
     "text": [
      "F1-Score for the Training Set is  0.6245805295063809\n"
     ]
    }
   ],
   "source": [
    "#Calculating F1 score\n",
    "print('F1-Score for the Training Set is ',f1_score(target, y_pred, average='macro'))"
   ]
  },
  {
   "cell_type": "code",
   "execution_count": 54,
   "id": "47ba1b30",
   "metadata": {},
   "outputs": [
    {
     "data": {
      "image/png": "[encoded data removed]",
      "text/plain": [
       "<Figure size 640x480 with 1 Axes>"
      ]
     },
     "metadata": {},
     "output_type": "display_data"
    }
   ],
   "source": [
    "#Some Visualization\n",
    "ax = lgb.plot_metric(evals_result, metric='auc')\n",
    "plt.show()"
   ]
  }
 ],
 "metadata": {
  "kernelspec": {
   "display_name": "Python 3 (ipykernel)",
   "language": "python",
   "name": "python3"
  },
  "language_info": {
   "codemirror_mode": {
    "name": "ipython",
    "version": 3
   },
   "file_extension": ".py",
   "mimetype": "text/x-python",
   "name": "python",
   "nbconvert_exporter": "python",
   "pygments_lexer": "ipython3",
   "version": "3.9.13"
  }
 },
 "nbformat": 4,
 "nbformat_minor": 5
}
